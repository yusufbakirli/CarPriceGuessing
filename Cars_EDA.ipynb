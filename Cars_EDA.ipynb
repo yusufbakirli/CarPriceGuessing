{
 "cells": [
  {
   "cell_type": "code",
   "execution_count": 1,
   "id": "d7593052",
   "metadata": {},
   "outputs": [],
   "source": [
    "import pandas as pd\n",
    "import numpy as np\n",
    "import matplotlib.pyplot as plt\n",
    "import seaborn as sns"
   ]
  },
  {
   "cell_type": "code",
   "execution_count": 2,
   "id": "a028d37d",
   "metadata": {},
   "outputs": [],
   "source": [
    "data = pd.read_excel(\"C:/Users/Yusuf/Desktop/proje/machine learning/car_data.xlsx\")"
   ]
  },
  {
   "cell_type": "code",
   "execution_count": 3,
   "id": "93d523e6",
   "metadata": {
    "scrolled": false
   },
   "outputs": [
    {
     "name": "stdout",
     "output_type": "stream",
     "text": [
      "<class 'pandas.core.frame.DataFrame'>\n",
      "RangeIndex: 1000 entries, 0 to 999\n",
      "Data columns (total 21 columns):\n",
      " #   Column               Non-Null Count  Dtype \n",
      "---  ------               --------------  ----- \n",
      " 0   Boya-değişen         1000 non-null   object\n",
      " 1   Kasa Tipi            1000 non-null   object\n",
      " 2   Kilometre            1000 non-null   object\n",
      " 3   Kimden               1000 non-null   object\n",
      " 4   Marka                1000 non-null   object\n",
      " 5   Model                1000 non-null   object\n",
      " 6   Motor Gücü           995 non-null    object\n",
      " 7   Motor Hacmi          996 non-null    object\n",
      " 8   Ort. Yakıt Tüketimi  903 non-null    object\n",
      " 9   Renk                 1000 non-null   object\n",
      " 10  Seri                 1000 non-null   object\n",
      " 11  Takasa Uygun         881 non-null    object\n",
      " 12  Vites Tipi           1000 non-null   object\n",
      " 13  Yakıt Deposu         962 non-null    object\n",
      " 14  Yakıt Tipi           1000 non-null   object\n",
      " 15  Yıl                  1000 non-null   int64 \n",
      " 16  Çekiş                996 non-null    object\n",
      " 17  İlan No              1000 non-null   int64 \n",
      " 18  İlan Tarihi          1000 non-null   object\n",
      " 19  Url                  1000 non-null   object\n",
      " 20  Fiyat                1000 non-null   object\n",
      "dtypes: int64(2), object(19)\n",
      "memory usage: 164.2+ KB\n"
     ]
    }
   ],
   "source": [
    "data.info()"
   ]
  },
  {
   "cell_type": "code",
   "execution_count": 4,
   "id": "1dd512c1",
   "metadata": {},
   "outputs": [],
   "source": [
    "data = data.drop(['Kimden','Motor Hacmi','Ort. Yakıt Tüketimi','Takasa Uygun','Yakıt Deposu','Çekiş','İlan No','İlan Tarihi'], axis=1)"
   ]
  },
  {
   "cell_type": "code",
   "execution_count": 5,
   "id": "43797bed",
   "metadata": {},
   "outputs": [
    {
     "data": {
      "text/plain": [
       "Index(['Boya-değişen', 'Kasa Tipi', 'Kilometre', 'Marka', 'Model',\n",
       "       'Motor Gücü', 'Renk', 'Seri', 'Vites Tipi', 'Yakıt Tipi', 'Yıl', 'Url',\n",
       "       'Fiyat'],\n",
       "      dtype='object')"
      ]
     },
     "execution_count": 5,
     "metadata": {},
     "output_type": "execute_result"
    }
   ],
   "source": [
    "data.columns"
   ]
  },
  {
   "cell_type": "code",
   "execution_count": 6,
   "id": "fe0e080a",
   "metadata": {
    "scrolled": true
   },
   "outputs": [
    {
     "data": {
      "text/html": [
       "<div>\n",
       "<style scoped>\n",
       "    .dataframe tbody tr th:only-of-type {\n",
       "        vertical-align: middle;\n",
       "    }\n",
       "\n",
       "    .dataframe tbody tr th {\n",
       "        vertical-align: top;\n",
       "    }\n",
       "\n",
       "    .dataframe thead th {\n",
       "        text-align: right;\n",
       "    }\n",
       "</style>\n",
       "<table border=\"1\" class=\"dataframe\">\n",
       "  <thead>\n",
       "    <tr style=\"text-align: right;\">\n",
       "      <th></th>\n",
       "      <th>Boya-değişen</th>\n",
       "      <th>Kasa Tipi</th>\n",
       "      <th>Kilometre</th>\n",
       "      <th>Marka</th>\n",
       "      <th>Model</th>\n",
       "      <th>Motor Gücü</th>\n",
       "      <th>Renk</th>\n",
       "      <th>Seri</th>\n",
       "      <th>Vites Tipi</th>\n",
       "      <th>Yakıt Tipi</th>\n",
       "      <th>Yıl</th>\n",
       "      <th>Url</th>\n",
       "      <th>Fiyat</th>\n",
       "    </tr>\n",
       "  </thead>\n",
       "  <tbody>\n",
       "    <tr>\n",
       "      <th>0</th>\n",
       "      <td>3 boyalı</td>\n",
       "      <td>Hatchback/5</td>\n",
       "      <td>89.000 km</td>\n",
       "      <td>Ford</td>\n",
       "      <td>1.5 TDCi Trend X</td>\n",
       "      <td>75 hp</td>\n",
       "      <td>Beyaz</td>\n",
       "      <td>Fiesta</td>\n",
       "      <td>Düz</td>\n",
       "      <td>Dizel</td>\n",
       "      <td>2015</td>\n",
       "      <td>https://www.arabam.com/ilan/galeriden-satilik-...</td>\n",
       "      <td>615.000 TL</td>\n",
       "    </tr>\n",
       "    <tr>\n",
       "      <th>1</th>\n",
       "      <td>1 değişen, 4 boyalı</td>\n",
       "      <td>Sedan</td>\n",
       "      <td>320.000 km</td>\n",
       "      <td>Nissan</td>\n",
       "      <td>1.6 SLX</td>\n",
       "      <td>100 hp</td>\n",
       "      <td>Beyaz</td>\n",
       "      <td>Primera</td>\n",
       "      <td>Düz</td>\n",
       "      <td>LPG &amp; Benzin</td>\n",
       "      <td>1997</td>\n",
       "      <td>https://www.arabam.com/ilan/galeriden-satilik-...</td>\n",
       "      <td>335.000 TL</td>\n",
       "    </tr>\n",
       "    <tr>\n",
       "      <th>2</th>\n",
       "      <td>Belirtilmemiş</td>\n",
       "      <td>Sedan</td>\n",
       "      <td>209.000 km</td>\n",
       "      <td>Fiat</td>\n",
       "      <td>1.3 Multijet Urban</td>\n",
       "      <td>95 hp</td>\n",
       "      <td>Beyaz</td>\n",
       "      <td>Egea</td>\n",
       "      <td>Düz</td>\n",
       "      <td>Dizel</td>\n",
       "      <td>2016</td>\n",
       "      <td>https://www.arabam.com/ilan/galeriden-satilik-...</td>\n",
       "      <td>560.000 TL</td>\n",
       "    </tr>\n",
       "    <tr>\n",
       "      <th>3</th>\n",
       "      <td>Tamamı orjinal</td>\n",
       "      <td>Sedan</td>\n",
       "      <td>60.000 km</td>\n",
       "      <td>Hyundai</td>\n",
       "      <td>1.4 Team</td>\n",
       "      <td>97 hp</td>\n",
       "      <td>Beyaz</td>\n",
       "      <td>Accent Era</td>\n",
       "      <td>Düz</td>\n",
       "      <td>LPG &amp; Benzin</td>\n",
       "      <td>2011</td>\n",
       "      <td>https://www.arabam.com/ilan/galeriden-satilik-...</td>\n",
       "      <td>590.000 TL</td>\n",
       "    </tr>\n",
       "    <tr>\n",
       "      <th>4</th>\n",
       "      <td>Tamamı orjinal</td>\n",
       "      <td>Hatchback/5</td>\n",
       "      <td>47.000 km</td>\n",
       "      <td>Renault</td>\n",
       "      <td>1.2 Joy</td>\n",
       "      <td>75 hp</td>\n",
       "      <td>Beyaz</td>\n",
       "      <td>Clio</td>\n",
       "      <td>Düz</td>\n",
       "      <td>Benzin</td>\n",
       "      <td>2018</td>\n",
       "      <td>https://www.arabam.com/ilan/galeriden-satilik-...</td>\n",
       "      <td>589.900 TL</td>\n",
       "    </tr>\n",
       "    <tr>\n",
       "      <th>5</th>\n",
       "      <td>2 değişen, 3 boyalı</td>\n",
       "      <td>Hatchback/5</td>\n",
       "      <td>145.000 km</td>\n",
       "      <td>Opel</td>\n",
       "      <td>1.3 CDTI Essentia</td>\n",
       "      <td>75 hp</td>\n",
       "      <td>Beyaz</td>\n",
       "      <td>Corsa</td>\n",
       "      <td>Düz</td>\n",
       "      <td>Dizel</td>\n",
       "      <td>2011</td>\n",
       "      <td>https://www.arabam.com/ilan/galeriden-satilik-...</td>\n",
       "      <td>475.000 TL</td>\n",
       "    </tr>\n",
       "    <tr>\n",
       "      <th>6</th>\n",
       "      <td>2 boyalı</td>\n",
       "      <td>Hatchback/5</td>\n",
       "      <td>140.000 km</td>\n",
       "      <td>Fiat</td>\n",
       "      <td>1.3 Multijet Easy Plus</td>\n",
       "      <td>95 hp</td>\n",
       "      <td>Beyaz</td>\n",
       "      <td>Egea</td>\n",
       "      <td>Düz</td>\n",
       "      <td>Dizel</td>\n",
       "      <td>2019</td>\n",
       "      <td>https://www.arabam.com/ilan/galeriden-satilik-...</td>\n",
       "      <td>549.900 TL</td>\n",
       "    </tr>\n",
       "    <tr>\n",
       "      <th>7</th>\n",
       "      <td>Tamamı orjinal</td>\n",
       "      <td>Sedan</td>\n",
       "      <td>35.000 km</td>\n",
       "      <td>Renault</td>\n",
       "      <td>1.5 Blue DCI Joy Comfort</td>\n",
       "      <td>115 hp</td>\n",
       "      <td>Beyaz</td>\n",
       "      <td>Megane</td>\n",
       "      <td>Yarı Otomatik</td>\n",
       "      <td>Dizel</td>\n",
       "      <td>2021</td>\n",
       "      <td>https://www.arabam.com/ilan/galeriden-satilik-...</td>\n",
       "      <td>999.000 TL</td>\n",
       "    </tr>\n",
       "    <tr>\n",
       "      <th>8</th>\n",
       "      <td>Belirtilmemiş</td>\n",
       "      <td>Station wagon</td>\n",
       "      <td>200.000 km</td>\n",
       "      <td>Tofaş</td>\n",
       "      <td>SLX</td>\n",
       "      <td>83 hp</td>\n",
       "      <td>Bordo</td>\n",
       "      <td>Kartal</td>\n",
       "      <td>Düz</td>\n",
       "      <td>LPG &amp; Benzin</td>\n",
       "      <td>1994</td>\n",
       "      <td>https://www.arabam.com/ilan/galeriden-satilik-...</td>\n",
       "      <td>150.000 TL</td>\n",
       "    </tr>\n",
       "    <tr>\n",
       "      <th>9</th>\n",
       "      <td>Tamamı orjinal</td>\n",
       "      <td>Sedan</td>\n",
       "      <td>190.000 km</td>\n",
       "      <td>Chevrolet</td>\n",
       "      <td>1.6 LS Plus</td>\n",
       "      <td>124 hp</td>\n",
       "      <td>Beyaz</td>\n",
       "      <td>Cruze</td>\n",
       "      <td>Otomatik</td>\n",
       "      <td>LPG &amp; Benzin</td>\n",
       "      <td>2011</td>\n",
       "      <td>https://www.arabam.com/ilan/galeriden-satilik-...</td>\n",
       "      <td>555.000 TL</td>\n",
       "    </tr>\n",
       "  </tbody>\n",
       "</table>\n",
       "</div>"
      ],
      "text/plain": [
       "          Boya-değişen      Kasa Tipi   Kilometre      Marka  \\\n",
       "0             3 boyalı    Hatchback/5   89.000 km       Ford   \n",
       "1  1 değişen, 4 boyalı          Sedan  320.000 km     Nissan   \n",
       "2        Belirtilmemiş          Sedan  209.000 km       Fiat   \n",
       "3       Tamamı orjinal          Sedan   60.000 km    Hyundai   \n",
       "4       Tamamı orjinal    Hatchback/5   47.000 km    Renault   \n",
       "5  2 değişen, 3 boyalı    Hatchback/5  145.000 km       Opel   \n",
       "6             2 boyalı    Hatchback/5  140.000 km       Fiat   \n",
       "7       Tamamı orjinal          Sedan   35.000 km    Renault   \n",
       "8        Belirtilmemiş  Station wagon  200.000 km      Tofaş   \n",
       "9       Tamamı orjinal          Sedan  190.000 km  Chevrolet   \n",
       "\n",
       "                      Model Motor Gücü   Renk        Seri     Vites Tipi  \\\n",
       "0          1.5 TDCi Trend X      75 hp  Beyaz      Fiesta            Düz   \n",
       "1                   1.6 SLX     100 hp  Beyaz     Primera            Düz   \n",
       "2        1.3 Multijet Urban      95 hp  Beyaz        Egea            Düz   \n",
       "3                  1.4 Team      97 hp  Beyaz  Accent Era            Düz   \n",
       "4                   1.2 Joy      75 hp  Beyaz        Clio            Düz   \n",
       "5         1.3 CDTI Essentia      75 hp  Beyaz       Corsa            Düz   \n",
       "6    1.3 Multijet Easy Plus      95 hp  Beyaz        Egea            Düz   \n",
       "7  1.5 Blue DCI Joy Comfort     115 hp  Beyaz      Megane  Yarı Otomatik   \n",
       "8                       SLX      83 hp  Bordo      Kartal            Düz   \n",
       "9               1.6 LS Plus     124 hp  Beyaz       Cruze       Otomatik   \n",
       "\n",
       "     Yakıt Tipi   Yıl                                                Url  \\\n",
       "0         Dizel  2015  https://www.arabam.com/ilan/galeriden-satilik-...   \n",
       "1  LPG & Benzin  1997  https://www.arabam.com/ilan/galeriden-satilik-...   \n",
       "2         Dizel  2016  https://www.arabam.com/ilan/galeriden-satilik-...   \n",
       "3  LPG & Benzin  2011  https://www.arabam.com/ilan/galeriden-satilik-...   \n",
       "4        Benzin  2018  https://www.arabam.com/ilan/galeriden-satilik-...   \n",
       "5         Dizel  2011  https://www.arabam.com/ilan/galeriden-satilik-...   \n",
       "6         Dizel  2019  https://www.arabam.com/ilan/galeriden-satilik-...   \n",
       "7         Dizel  2021  https://www.arabam.com/ilan/galeriden-satilik-...   \n",
       "8  LPG & Benzin  1994  https://www.arabam.com/ilan/galeriden-satilik-...   \n",
       "9  LPG & Benzin  2011  https://www.arabam.com/ilan/galeriden-satilik-...   \n",
       "\n",
       "        Fiyat  \n",
       "0  615.000 TL  \n",
       "1  335.000 TL  \n",
       "2  560.000 TL  \n",
       "3  590.000 TL  \n",
       "4  589.900 TL  \n",
       "5  475.000 TL  \n",
       "6  549.900 TL  \n",
       "7  999.000 TL  \n",
       "8  150.000 TL  \n",
       "9  555.000 TL  "
      ]
     },
     "execution_count": 6,
     "metadata": {},
     "output_type": "execute_result"
    }
   ],
   "source": [
    "data.head(10)"
   ]
  },
  {
   "cell_type": "code",
   "execution_count": 7,
   "id": "bdb65a49",
   "metadata": {
    "scrolled": false
   },
   "outputs": [
    {
     "data": {
      "image/png": "[encoded data removed]",
      "text/plain": [
       "<Figure size 1600x1600 with 1 Axes>"
      ]
     },
     "metadata": {},
     "output_type": "display_data"
    }
   ],
   "source": [
    "plt.figure(figsize=(16,16))\n",
    "plt.subplot(2,1,1)\n",
    "sns.countplot(x='Marka',data = data,order = data['Marka'].value_counts().index)\n",
    "plt.xticks(rotation = 90)\n",
    "plt.show()"
   ]
  },
  {
   "cell_type": "code",
   "execution_count": 8,
   "id": "aa9fc760",
   "metadata": {},
   "outputs": [],
   "source": [
    "data[\"Fiyat\"] = data.Fiyat.str.replace('.', '')\n",
    "data[\"Fiyat\"] = data.Fiyat.str.replace(' TL', '')"
   ]
  },
  {
   "cell_type": "code",
   "execution_count": 9,
   "id": "9fef0d94",
   "metadata": {},
   "outputs": [],
   "source": [
    "data[\"Fiyat\"] = data.Fiyat.astype(float)"
   ]
  },
  {
   "cell_type": "code",
   "execution_count": 10,
   "id": "036e3878",
   "metadata": {},
   "outputs": [
    {
     "data": {
      "text/plain": [
       "0      615000.0\n",
       "1      335000.0\n",
       "2      560000.0\n",
       "3      590000.0\n",
       "4      589900.0\n",
       "         ...   \n",
       "995    410000.0\n",
       "996    783000.0\n",
       "997    380500.0\n",
       "998    480000.0\n",
       "999    520000.0\n",
       "Name: Fiyat, Length: 1000, dtype: float64"
      ]
     },
     "execution_count": 10,
     "metadata": {},
     "output_type": "execute_result"
    }
   ],
   "source": [
    "data[\"Fiyat\"]"
   ]
  },
  {
   "cell_type": "code",
   "execution_count": 11,
   "id": "9158eebc",
   "metadata": {},
   "outputs": [],
   "source": [
    "data = data.rename(columns = {'Boya-değişen':'Boya_Degisen','Kasa Tipi':'Kasa_Tipi','Model':'Paket','Motor Gücü':'Motor_Gucu','Seri':'Model','Vites Tipi':'Vites_Tipi','Yakıt Tipi':'Yakit_Tipi','Yıl':'Yil'})"
   ]
  },
  {
   "cell_type": "code",
   "execution_count": 12,
   "id": "090a8550",
   "metadata": {},
   "outputs": [],
   "source": [
    "data[\"Boya_Degisen\"] = data.Boya_Degisen.str.replace('Tamamı orjinal','0')\n",
    "data[\"Boya_Degisen\"] = data.Boya_Degisen.str.replace('Tamamı boyalı','14')\n",
    "data[\"Boya_Degisen\"] = data.Boya_Degisen.str.replace('Belirtilmemiş','0')\n",
    "data[\"Boya_Degisen\"] = data.Boya_Degisen.str.replace(' değişen','')\n",
    "data[\"Boya_Degisen\"] = data.Boya_Degisen.str.replace(' boyalı','')\n",
    "data[\"Boya_Degisen\"] = data.Boya_Degisen.str.replace(' ','')"
   ]
  },
  {
   "cell_type": "code",
   "execution_count": 13,
   "id": "cbfa6c71",
   "metadata": {},
   "outputs": [],
   "source": [
    "def add_numbers(cell):\n",
    "    numbers = [int(num) for num in cell.split(',')]\n",
    "    return sum(numbers)"
   ]
  },
  {
   "cell_type": "code",
   "execution_count": 14,
   "id": "8db5bee1",
   "metadata": {},
   "outputs": [],
   "source": [
    "data[\"Boya_Degisen\"] = data[\"Boya_Degisen\"].apply(add_numbers)"
   ]
  },
  {
   "cell_type": "code",
   "execution_count": 15,
   "id": "58e33f3d",
   "metadata": {
    "scrolled": true
   },
   "outputs": [],
   "source": [
    "data[\"Boya_Degisen\"] = data.Boya_Degisen.astype(float)"
   ]
  },
  {
   "cell_type": "code",
   "execution_count": 16,
   "id": "76b0a391",
   "metadata": {},
   "outputs": [
    {
     "data": {
      "text/plain": [
       "0      3.0\n",
       "1      5.0\n",
       "2      0.0\n",
       "3      0.0\n",
       "4      0.0\n",
       "      ... \n",
       "995    0.0\n",
       "996    0.0\n",
       "997    2.0\n",
       "998    7.0\n",
       "999    4.0\n",
       "Name: Boya_Degisen, Length: 1000, dtype: float64"
      ]
     },
     "execution_count": 16,
     "metadata": {},
     "output_type": "execute_result"
    }
   ],
   "source": [
    "data[\"Boya_Degisen\"]"
   ]
  },
  {
   "cell_type": "code",
   "execution_count": 17,
   "id": "e985466f",
   "metadata": {},
   "outputs": [],
   "source": [
    "data[\"Kilometre\"] = data.Kilometre.str.replace('.', '')\n",
    "data[\"Kilometre\"] = data.Kilometre.str.replace(' km', '')"
   ]
  },
  {
   "cell_type": "code",
   "execution_count": 18,
   "id": "e77f11ce",
   "metadata": {},
   "outputs": [],
   "source": [
    "data[\"Kilometre\"] = data.Kilometre.astype(float)"
   ]
  },
  {
   "cell_type": "code",
   "execution_count": 19,
   "id": "4211895a",
   "metadata": {},
   "outputs": [
    {
     "data": {
      "text/plain": [
       "0       89000.0\n",
       "1      320000.0\n",
       "2      209000.0\n",
       "3       60000.0\n",
       "4       47000.0\n",
       "         ...   \n",
       "995    270000.0\n",
       "996      7300.0\n",
       "997    252000.0\n",
       "998    250000.0\n",
       "999       330.0\n",
       "Name: Kilometre, Length: 1000, dtype: float64"
      ]
     },
     "execution_count": 19,
     "metadata": {},
     "output_type": "execute_result"
    }
   ],
   "source": [
    "data[\"Kilometre\"]"
   ]
  },
  {
   "cell_type": "code",
   "execution_count": 20,
   "id": "a78ad566",
   "metadata": {},
   "outputs": [],
   "source": [
    "data[\"Motor_Gucu\"] = data.Motor_Gucu.str.replace(' hp', '')"
   ]
  },
  {
   "cell_type": "code",
   "execution_count": 21,
   "id": "fbdee967",
   "metadata": {
    "scrolled": true
   },
   "outputs": [],
   "source": [
    "mode_motorgucu = data[\"Motor_Gucu\"].mode()[0]\n",
    "data[\"Motor_Gucu\"].fillna(mode_motorgucu, inplace=True)"
   ]
  },
  {
   "cell_type": "code",
   "execution_count": 22,
   "id": "aadd19be",
   "metadata": {},
   "outputs": [],
   "source": [
    "data[\"Motor_Gucu\"] = data.Motor_Gucu.astype(float)"
   ]
  },
  {
   "cell_type": "code",
   "execution_count": 23,
   "id": "3b115191",
   "metadata": {},
   "outputs": [
    {
     "data": {
      "text/plain": [
       "0       75.0\n",
       "1      100.0\n",
       "2       95.0\n",
       "3       97.0\n",
       "4       75.0\n",
       "       ...  \n",
       "995     80.0\n",
       "996     95.0\n",
       "997    105.0\n",
       "998    115.0\n",
       "999    115.0\n",
       "Name: Motor_Gucu, Length: 1000, dtype: float64"
      ]
     },
     "execution_count": 23,
     "metadata": {},
     "output_type": "execute_result"
    }
   ],
   "source": [
    "data[\"Motor_Gucu\"]"
   ]
  },
  {
   "cell_type": "code",
   "execution_count": 24,
   "id": "f04cacb4",
   "metadata": {},
   "outputs": [
    {
     "name": "stdout",
     "output_type": "stream",
     "text": [
      "<class 'pandas.core.frame.DataFrame'>\n",
      "RangeIndex: 1000 entries, 0 to 999\n",
      "Data columns (total 13 columns):\n",
      " #   Column        Non-Null Count  Dtype  \n",
      "---  ------        --------------  -----  \n",
      " 0   Boya_Degisen  1000 non-null   float64\n",
      " 1   Kasa_Tipi     1000 non-null   object \n",
      " 2   Kilometre     1000 non-null   float64\n",
      " 3   Marka         1000 non-null   object \n",
      " 4   Paket         1000 non-null   object \n",
      " 5   Motor_Gucu    1000 non-null   float64\n",
      " 6   Renk          1000 non-null   object \n",
      " 7   Model         1000 non-null   object \n",
      " 8   Vites_Tipi    1000 non-null   object \n",
      " 9   Yakit_Tipi    1000 non-null   object \n",
      " 10  Yil           1000 non-null   int64  \n",
      " 11  Url           1000 non-null   object \n",
      " 12  Fiyat         1000 non-null   float64\n",
      "dtypes: float64(4), int64(1), object(8)\n",
      "memory usage: 101.7+ KB\n"
     ]
    }
   ],
   "source": [
    "data.info()"
   ]
  },
  {
   "cell_type": "code",
   "execution_count": 25,
   "id": "a4f5de3e",
   "metadata": {},
   "outputs": [
    {
     "data": {
      "text/html": [
       "<div>\n",
       "<style scoped>\n",
       "    .dataframe tbody tr th:only-of-type {\n",
       "        vertical-align: middle;\n",
       "    }\n",
       "\n",
       "    .dataframe tbody tr th {\n",
       "        vertical-align: top;\n",
       "    }\n",
       "\n",
       "    .dataframe thead th {\n",
       "        text-align: right;\n",
       "    }\n",
       "</style>\n",
       "<table border=\"1\" class=\"dataframe\">\n",
       "  <thead>\n",
       "    <tr style=\"text-align: right;\">\n",
       "      <th></th>\n",
       "      <th>Boya_Degisen</th>\n",
       "      <th>Kasa_Tipi</th>\n",
       "      <th>Kilometre</th>\n",
       "      <th>Marka</th>\n",
       "      <th>Paket</th>\n",
       "      <th>Motor_Gucu</th>\n",
       "      <th>Renk</th>\n",
       "      <th>Model</th>\n",
       "      <th>Vites_Tipi</th>\n",
       "      <th>Yakit_Tipi</th>\n",
       "      <th>Yil</th>\n",
       "      <th>Url</th>\n",
       "      <th>Fiyat</th>\n",
       "    </tr>\n",
       "  </thead>\n",
       "  <tbody>\n",
       "    <tr>\n",
       "      <th>0</th>\n",
       "      <td>3.0</td>\n",
       "      <td>Hatchback/5</td>\n",
       "      <td>89000.0</td>\n",
       "      <td>Ford</td>\n",
       "      <td>1.5 TDCi Trend X</td>\n",
       "      <td>75.0</td>\n",
       "      <td>Beyaz</td>\n",
       "      <td>Fiesta</td>\n",
       "      <td>Düz</td>\n",
       "      <td>Dizel</td>\n",
       "      <td>2015</td>\n",
       "      <td>https://www.arabam.com/ilan/galeriden-satilik-...</td>\n",
       "      <td>615000.0</td>\n",
       "    </tr>\n",
       "    <tr>\n",
       "      <th>1</th>\n",
       "      <td>5.0</td>\n",
       "      <td>Sedan</td>\n",
       "      <td>320000.0</td>\n",
       "      <td>Nissan</td>\n",
       "      <td>1.6 SLX</td>\n",
       "      <td>100.0</td>\n",
       "      <td>Beyaz</td>\n",
       "      <td>Primera</td>\n",
       "      <td>Düz</td>\n",
       "      <td>LPG &amp; Benzin</td>\n",
       "      <td>1997</td>\n",
       "      <td>https://www.arabam.com/ilan/galeriden-satilik-...</td>\n",
       "      <td>335000.0</td>\n",
       "    </tr>\n",
       "    <tr>\n",
       "      <th>2</th>\n",
       "      <td>0.0</td>\n",
       "      <td>Sedan</td>\n",
       "      <td>209000.0</td>\n",
       "      <td>Fiat</td>\n",
       "      <td>1.3 Multijet Urban</td>\n",
       "      <td>95.0</td>\n",
       "      <td>Beyaz</td>\n",
       "      <td>Egea</td>\n",
       "      <td>Düz</td>\n",
       "      <td>Dizel</td>\n",
       "      <td>2016</td>\n",
       "      <td>https://www.arabam.com/ilan/galeriden-satilik-...</td>\n",
       "      <td>560000.0</td>\n",
       "    </tr>\n",
       "    <tr>\n",
       "      <th>3</th>\n",
       "      <td>0.0</td>\n",
       "      <td>Sedan</td>\n",
       "      <td>60000.0</td>\n",
       "      <td>Hyundai</td>\n",
       "      <td>1.4 Team</td>\n",
       "      <td>97.0</td>\n",
       "      <td>Beyaz</td>\n",
       "      <td>Accent Era</td>\n",
       "      <td>Düz</td>\n",
       "      <td>LPG &amp; Benzin</td>\n",
       "      <td>2011</td>\n",
       "      <td>https://www.arabam.com/ilan/galeriden-satilik-...</td>\n",
       "      <td>590000.0</td>\n",
       "    </tr>\n",
       "    <tr>\n",
       "      <th>4</th>\n",
       "      <td>0.0</td>\n",
       "      <td>Hatchback/5</td>\n",
       "      <td>47000.0</td>\n",
       "      <td>Renault</td>\n",
       "      <td>1.2 Joy</td>\n",
       "      <td>75.0</td>\n",
       "      <td>Beyaz</td>\n",
       "      <td>Clio</td>\n",
       "      <td>Düz</td>\n",
       "      <td>Benzin</td>\n",
       "      <td>2018</td>\n",
       "      <td>https://www.arabam.com/ilan/galeriden-satilik-...</td>\n",
       "      <td>589900.0</td>\n",
       "    </tr>\n",
       "    <tr>\n",
       "      <th>5</th>\n",
       "      <td>5.0</td>\n",
       "      <td>Hatchback/5</td>\n",
       "      <td>145000.0</td>\n",
       "      <td>Opel</td>\n",
       "      <td>1.3 CDTI Essentia</td>\n",
       "      <td>75.0</td>\n",
       "      <td>Beyaz</td>\n",
       "      <td>Corsa</td>\n",
       "      <td>Düz</td>\n",
       "      <td>Dizel</td>\n",
       "      <td>2011</td>\n",
       "      <td>https://www.arabam.com/ilan/galeriden-satilik-...</td>\n",
       "      <td>475000.0</td>\n",
       "    </tr>\n",
       "    <tr>\n",
       "      <th>6</th>\n",
       "      <td>2.0</td>\n",
       "      <td>Hatchback/5</td>\n",
       "      <td>140000.0</td>\n",
       "      <td>Fiat</td>\n",
       "      <td>1.3 Multijet Easy Plus</td>\n",
       "      <td>95.0</td>\n",
       "      <td>Beyaz</td>\n",
       "      <td>Egea</td>\n",
       "      <td>Düz</td>\n",
       "      <td>Dizel</td>\n",
       "      <td>2019</td>\n",
       "      <td>https://www.arabam.com/ilan/galeriden-satilik-...</td>\n",
       "      <td>549900.0</td>\n",
       "    </tr>\n",
       "    <tr>\n",
       "      <th>7</th>\n",
       "      <td>0.0</td>\n",
       "      <td>Sedan</td>\n",
       "      <td>35000.0</td>\n",
       "      <td>Renault</td>\n",
       "      <td>1.5 Blue DCI Joy Comfort</td>\n",
       "      <td>115.0</td>\n",
       "      <td>Beyaz</td>\n",
       "      <td>Megane</td>\n",
       "      <td>Yarı Otomatik</td>\n",
       "      <td>Dizel</td>\n",
       "      <td>2021</td>\n",
       "      <td>https://www.arabam.com/ilan/galeriden-satilik-...</td>\n",
       "      <td>999000.0</td>\n",
       "    </tr>\n",
       "    <tr>\n",
       "      <th>8</th>\n",
       "      <td>0.0</td>\n",
       "      <td>Station wagon</td>\n",
       "      <td>200000.0</td>\n",
       "      <td>Tofaş</td>\n",
       "      <td>SLX</td>\n",
       "      <td>83.0</td>\n",
       "      <td>Bordo</td>\n",
       "      <td>Kartal</td>\n",
       "      <td>Düz</td>\n",
       "      <td>LPG &amp; Benzin</td>\n",
       "      <td>1994</td>\n",
       "      <td>https://www.arabam.com/ilan/galeriden-satilik-...</td>\n",
       "      <td>150000.0</td>\n",
       "    </tr>\n",
       "    <tr>\n",
       "      <th>9</th>\n",
       "      <td>0.0</td>\n",
       "      <td>Sedan</td>\n",
       "      <td>190000.0</td>\n",
       "      <td>Chevrolet</td>\n",
       "      <td>1.6 LS Plus</td>\n",
       "      <td>124.0</td>\n",
       "      <td>Beyaz</td>\n",
       "      <td>Cruze</td>\n",
       "      <td>Otomatik</td>\n",
       "      <td>LPG &amp; Benzin</td>\n",
       "      <td>2011</td>\n",
       "      <td>https://www.arabam.com/ilan/galeriden-satilik-...</td>\n",
       "      <td>555000.0</td>\n",
       "    </tr>\n",
       "  </tbody>\n",
       "</table>\n",
       "</div>"
      ],
      "text/plain": [
       "   Boya_Degisen      Kasa_Tipi  Kilometre      Marka  \\\n",
       "0           3.0    Hatchback/5    89000.0       Ford   \n",
       "1           5.0          Sedan   320000.0     Nissan   \n",
       "2           0.0          Sedan   209000.0       Fiat   \n",
       "3           0.0          Sedan    60000.0    Hyundai   \n",
       "4           0.0    Hatchback/5    47000.0    Renault   \n",
       "5           5.0    Hatchback/5   145000.0       Opel   \n",
       "6           2.0    Hatchback/5   140000.0       Fiat   \n",
       "7           0.0          Sedan    35000.0    Renault   \n",
       "8           0.0  Station wagon   200000.0      Tofaş   \n",
       "9           0.0          Sedan   190000.0  Chevrolet   \n",
       "\n",
       "                      Paket  Motor_Gucu   Renk       Model     Vites_Tipi  \\\n",
       "0          1.5 TDCi Trend X        75.0  Beyaz      Fiesta            Düz   \n",
       "1                   1.6 SLX       100.0  Beyaz     Primera            Düz   \n",
       "2        1.3 Multijet Urban        95.0  Beyaz        Egea            Düz   \n",
       "3                  1.4 Team        97.0  Beyaz  Accent Era            Düz   \n",
       "4                   1.2 Joy        75.0  Beyaz        Clio            Düz   \n",
       "5         1.3 CDTI Essentia        75.0  Beyaz       Corsa            Düz   \n",
       "6    1.3 Multijet Easy Plus        95.0  Beyaz        Egea            Düz   \n",
       "7  1.5 Blue DCI Joy Comfort       115.0  Beyaz      Megane  Yarı Otomatik   \n",
       "8                       SLX        83.0  Bordo      Kartal            Düz   \n",
       "9               1.6 LS Plus       124.0  Beyaz       Cruze       Otomatik   \n",
       "\n",
       "     Yakit_Tipi   Yil                                                Url  \\\n",
       "0         Dizel  2015  https://www.arabam.com/ilan/galeriden-satilik-...   \n",
       "1  LPG & Benzin  1997  https://www.arabam.com/ilan/galeriden-satilik-...   \n",
       "2         Dizel  2016  https://www.arabam.com/ilan/galeriden-satilik-...   \n",
       "3  LPG & Benzin  2011  https://www.arabam.com/ilan/galeriden-satilik-...   \n",
       "4        Benzin  2018  https://www.arabam.com/ilan/galeriden-satilik-...   \n",
       "5         Dizel  2011  https://www.arabam.com/ilan/galeriden-satilik-...   \n",
       "6         Dizel  2019  https://www.arabam.com/ilan/galeriden-satilik-...   \n",
       "7         Dizel  2021  https://www.arabam.com/ilan/galeriden-satilik-...   \n",
       "8  LPG & Benzin  1994  https://www.arabam.com/ilan/galeriden-satilik-...   \n",
       "9  LPG & Benzin  2011  https://www.arabam.com/ilan/galeriden-satilik-...   \n",
       "\n",
       "      Fiyat  \n",
       "0  615000.0  \n",
       "1  335000.0  \n",
       "2  560000.0  \n",
       "3  590000.0  \n",
       "4  589900.0  \n",
       "5  475000.0  \n",
       "6  549900.0  \n",
       "7  999000.0  \n",
       "8  150000.0  \n",
       "9  555000.0  "
      ]
     },
     "execution_count": 25,
     "metadata": {},
     "output_type": "execute_result"
    }
   ],
   "source": [
    "data.head(10)"
   ]
  },
  {
   "cell_type": "code",
   "execution_count": null,
   "id": "d96e66e8",
   "metadata": {},
   "outputs": [],
   "source": []
  }
 ],
 "metadata": {
  "kernelspec": {
   "display_name": "Python 3 (ipykernel)",
   "language": "python",
   "name": "python3"
  },
  "language_info": {
   "codemirror_mode": {
    "name": "ipython",
    "version": 3
   },
   "file_extension": ".py",
   "mimetype": "text/x-python",
   "name": "python",
   "nbconvert_exporter": "python",
   "pygments_lexer": "ipython3",
   "version": "3.11.5"
  }
 },
 "nbformat": 4,
 "nbformat_minor": 5
}
