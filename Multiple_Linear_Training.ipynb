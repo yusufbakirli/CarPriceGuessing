{
 "cells": [
  {
   "cell_type": "code",
   "execution_count": 1,
   "id": "e36e1f3a",
   "metadata": {},
   "outputs": [],
   "source": [
    "import pandas as pd\n",
    "import numpy as np\n",
    "import matplotlib.pyplot as plt"
   ]
  },
  {
   "cell_type": "code",
   "execution_count": 2,
   "id": "b467a123",
   "metadata": {},
   "outputs": [],
   "source": [
    "dataset = pd.read_excel(\"C:/Users/Yusuf/Desktop/proje/machine learning/cars_fill_training.xlsx\")"
   ]
  },
  {
   "cell_type": "code",
   "execution_count": 3,
   "id": "d520978d",
   "metadata": {},
   "outputs": [
    {
     "data": {
      "text/html": [
       "<div>\n",
       "<style scoped>\n",
       "    .dataframe tbody tr th:only-of-type {\n",
       "        vertical-align: middle;\n",
       "    }\n",
       "\n",
       "    .dataframe tbody tr th {\n",
       "        vertical-align: top;\n",
       "    }\n",
       "\n",
       "    .dataframe thead th {\n",
       "        text-align: right;\n",
       "    }\n",
       "</style>\n",
       "<table border=\"1\" class=\"dataframe\">\n",
       "  <thead>\n",
       "    <tr style=\"text-align: right;\">\n",
       "      <th></th>\n",
       "      <th>Boya_Degisen</th>\n",
       "      <th>Kasa_Tipi</th>\n",
       "      <th>Kilometre</th>\n",
       "      <th>Marka</th>\n",
       "      <th>Motor_Gucu</th>\n",
       "      <th>Vites_Tipi</th>\n",
       "      <th>Yakit_Tipi</th>\n",
       "      <th>Yil</th>\n",
       "      <th>Fiyat</th>\n",
       "    </tr>\n",
       "  </thead>\n",
       "  <tbody>\n",
       "    <tr>\n",
       "      <th>0</th>\n",
       "      <td>3</td>\n",
       "      <td>1</td>\n",
       "      <td>89000</td>\n",
       "      <td>11</td>\n",
       "      <td>75</td>\n",
       "      <td>0</td>\n",
       "      <td>1</td>\n",
       "      <td>2015</td>\n",
       "      <td>615000</td>\n",
       "    </tr>\n",
       "    <tr>\n",
       "      <th>1</th>\n",
       "      <td>5</td>\n",
       "      <td>3</td>\n",
       "      <td>320000</td>\n",
       "      <td>19</td>\n",
       "      <td>100</td>\n",
       "      <td>0</td>\n",
       "      <td>3</td>\n",
       "      <td>1997</td>\n",
       "      <td>335000</td>\n",
       "    </tr>\n",
       "    <tr>\n",
       "      <th>2</th>\n",
       "      <td>0</td>\n",
       "      <td>3</td>\n",
       "      <td>209000</td>\n",
       "      <td>10</td>\n",
       "      <td>95</td>\n",
       "      <td>0</td>\n",
       "      <td>1</td>\n",
       "      <td>2016</td>\n",
       "      <td>560000</td>\n",
       "    </tr>\n",
       "    <tr>\n",
       "      <th>3</th>\n",
       "      <td>0</td>\n",
       "      <td>3</td>\n",
       "      <td>60000</td>\n",
       "      <td>13</td>\n",
       "      <td>97</td>\n",
       "      <td>0</td>\n",
       "      <td>3</td>\n",
       "      <td>2011</td>\n",
       "      <td>590000</td>\n",
       "    </tr>\n",
       "    <tr>\n",
       "      <th>4</th>\n",
       "      <td>0</td>\n",
       "      <td>1</td>\n",
       "      <td>47000</td>\n",
       "      <td>23</td>\n",
       "      <td>75</td>\n",
       "      <td>0</td>\n",
       "      <td>0</td>\n",
       "      <td>2018</td>\n",
       "      <td>589900</td>\n",
       "    </tr>\n",
       "  </tbody>\n",
       "</table>\n",
       "</div>"
      ],
      "text/plain": [
       "   Boya_Degisen  Kasa_Tipi  Kilometre  Marka  Motor_Gucu  Vites_Tipi  \\\n",
       "0             3          1      89000     11          75           0   \n",
       "1             5          3     320000     19         100           0   \n",
       "2             0          3     209000     10          95           0   \n",
       "3             0          3      60000     13          97           0   \n",
       "4             0          1      47000     23          75           0   \n",
       "\n",
       "   Yakit_Tipi   Yil   Fiyat  \n",
       "0           1  2015  615000  \n",
       "1           3  1997  335000  \n",
       "2           1  2016  560000  \n",
       "3           3  2011  590000  \n",
       "4           0  2018  589900  "
      ]
     },
     "execution_count": 3,
     "metadata": {},
     "output_type": "execute_result"
    }
   ],
   "source": [
    "dataset.head()"
   ]
  },
  {
   "cell_type": "code",
   "execution_count": 4,
   "id": "f199b288",
   "metadata": {},
   "outputs": [],
   "source": [
    "X = dataset.iloc[:, 0:8].values\n",
    "y = dataset.iloc[:, 8].values\n",
    "y = y.reshape(-1, 1)"
   ]
  },
  {
   "cell_type": "code",
   "execution_count": 5,
   "id": "f2accdd1",
   "metadata": {},
   "outputs": [],
   "source": [
    "from sklearn.model_selection import train_test_split\n",
    "X_train, X_test, y_train, y_test = train_test_split(X, y, test_size = 0.2, random_state = 0)"
   ]
  },
  {
   "cell_type": "code",
   "execution_count": 6,
   "id": "a864add0",
   "metadata": {},
   "outputs": [],
   "source": [
    "from sklearn.linear_model import LinearRegression\n",
    "regressor = LinearRegression()\n",
    "regressor.fit(X_train, y_train)\n",
    "y_predLR = regressor.predict(X_test)"
   ]
  },
  {
   "cell_type": "code",
   "execution_count": 7,
   "id": "2f5d2ef3",
   "metadata": {},
   "outputs": [],
   "source": [
    "from sklearn.metrics import mean_squared_error, r2_score\n",
    "mse = mean_squared_error(y_test, y_predLR)\n",
    "r2 = r2_score(y_test, y_predLR)"
   ]
  },
  {
   "cell_type": "code",
   "execution_count": 8,
   "id": "e68b84e0",
   "metadata": {},
   "outputs": [
    {
     "name": "stdout",
     "output_type": "stream",
     "text": [
      "214732030813.7201\n",
      "0.06953989389153636\n"
     ]
    }
   ],
   "source": [
    "print(mse)\n",
    "print(r2)"
   ]
  },
  {
   "cell_type": "code",
   "execution_count": 9,
   "id": "b4f91922",
   "metadata": {},
   "outputs": [
    {
     "data": {
      "text/plain": [
       "['C:/Users/Yusuf/Desktop/proje/machine learning/cars_multiple_linear_model.pkl']"
      ]
     },
     "execution_count": 9,
     "metadata": {},
     "output_type": "execute_result"
    }
   ],
   "source": [
    "import joblib\n",
    "joblib.dump(regressor, \"C:/Users/Yusuf/Desktop/proje/machine learning/cars_multiple_linear_model.pkl\")"
   ]
  },
  {
   "cell_type": "code",
   "execution_count": null,
   "id": "a0722b5a",
   "metadata": {},
   "outputs": [],
   "source": []
  }
 ],
 "metadata": {
  "kernelspec": {
   "display_name": "Python 3 (ipykernel)",
   "language": "python",
   "name": "python3"
  },
  "language_info": {
   "codemirror_mode": {
    "name": "ipython",
    "version": 3
   },
   "file_extension": ".py",
   "mimetype": "text/x-python",
   "name": "python",
   "nbconvert_exporter": "python",
   "pygments_lexer": "ipython3",
   "version": "3.11.5"
  }
 },
 "nbformat": 4,
 "nbformat_minor": 5
}
