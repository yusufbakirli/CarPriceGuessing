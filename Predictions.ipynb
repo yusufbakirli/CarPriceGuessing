{
 "cells": [
  {
   "cell_type": "code",
   "execution_count": 128,
   "id": "a0139399",
   "metadata": {},
   "outputs": [],
   "source": [
    "import pandas as pd\n",
    "import numpy as np\n",
    "import joblib"
   ]
  },
  {
   "cell_type": "code",
   "execution_count": 129,
   "id": "65f5bf9b",
   "metadata": {},
   "outputs": [],
   "source": [
    "dt_model = joblib.load(\"C:/Users/Yusuf/Desktop/proje/machine learning/cars_decision_tree_model.pkl\")      #0.482\n",
    "ml_model = joblib.load(\"C:/Users/Yusuf/Desktop/proje/machine learning/cars_multiple_linear_model.pkl\")    #0.069\n",
    "rf_model = joblib.load(\"C:/Users/Yusuf/Desktop/proje/machine learning/cars_random_forest_model.pkl\")      #0.772\n",
    "gb_model = joblib.load(\"C:/Users/Yusuf/Desktop/proje/machine learning/cars_gradient_boosting_model.pkl\")  #0.738"
   ]
  },
  {
   "cell_type": "code",
   "execution_count": 130,
   "id": "972b4a62",
   "metadata": {},
   "outputs": [],
   "source": [
    "marka = pd.read_excel(\"C:/Users/Yusuf/Desktop/proje/machine learning/marka.xlsx\")"
   ]
  },
  {
   "cell_type": "code",
   "execution_count": 131,
   "id": "d38fa3ce",
   "metadata": {
    "scrolled": true
   },
   "outputs": [
    {
     "data": {
      "text/html": [
       "<div>\n",
       "<style scoped>\n",
       "    .dataframe tbody tr th:only-of-type {\n",
       "        vertical-align: middle;\n",
       "    }\n",
       "\n",
       "    .dataframe tbody tr th {\n",
       "        vertical-align: top;\n",
       "    }\n",
       "\n",
       "    .dataframe thead th {\n",
       "        text-align: right;\n",
       "    }\n",
       "</style>\n",
       "<table border=\"1\" class=\"dataframe\">\n",
       "  <thead>\n",
       "    <tr style=\"text-align: right;\">\n",
       "      <th></th>\n",
       "      <th>Marka</th>\n",
       "    </tr>\n",
       "  </thead>\n",
       "  <tbody>\n",
       "    <tr>\n",
       "      <th>0</th>\n",
       "      <td>Alfa Romeo</td>\n",
       "    </tr>\n",
       "    <tr>\n",
       "      <th>1</th>\n",
       "      <td>Audi</td>\n",
       "    </tr>\n",
       "    <tr>\n",
       "      <th>2</th>\n",
       "      <td>BMW</td>\n",
       "    </tr>\n",
       "    <tr>\n",
       "      <th>3</th>\n",
       "      <td>Chevrolet</td>\n",
       "    </tr>\n",
       "    <tr>\n",
       "      <th>4</th>\n",
       "      <td>Chrysler</td>\n",
       "    </tr>\n",
       "    <tr>\n",
       "      <th>5</th>\n",
       "      <td>Citroen</td>\n",
       "    </tr>\n",
       "    <tr>\n",
       "      <th>6</th>\n",
       "      <td>DS Automobiles</td>\n",
       "    </tr>\n",
       "    <tr>\n",
       "      <th>7</th>\n",
       "      <td>Dacia</td>\n",
       "    </tr>\n",
       "    <tr>\n",
       "      <th>8</th>\n",
       "      <td>Daewoo</td>\n",
       "    </tr>\n",
       "    <tr>\n",
       "      <th>9</th>\n",
       "      <td>Daihatsu</td>\n",
       "    </tr>\n",
       "    <tr>\n",
       "      <th>10</th>\n",
       "      <td>Fiat</td>\n",
       "    </tr>\n",
       "    <tr>\n",
       "      <th>11</th>\n",
       "      <td>Ford</td>\n",
       "    </tr>\n",
       "    <tr>\n",
       "      <th>12</th>\n",
       "      <td>Honda</td>\n",
       "    </tr>\n",
       "    <tr>\n",
       "      <th>13</th>\n",
       "      <td>Hyundai</td>\n",
       "    </tr>\n",
       "    <tr>\n",
       "      <th>14</th>\n",
       "      <td>Kia</td>\n",
       "    </tr>\n",
       "    <tr>\n",
       "      <th>15</th>\n",
       "      <td>MINI</td>\n",
       "    </tr>\n",
       "    <tr>\n",
       "      <th>16</th>\n",
       "      <td>Mazda</td>\n",
       "    </tr>\n",
       "    <tr>\n",
       "      <th>17</th>\n",
       "      <td>Mercedes - Benz</td>\n",
       "    </tr>\n",
       "    <tr>\n",
       "      <th>18</th>\n",
       "      <td>Mitsubishi</td>\n",
       "    </tr>\n",
       "    <tr>\n",
       "      <th>19</th>\n",
       "      <td>Nissan</td>\n",
       "    </tr>\n",
       "    <tr>\n",
       "      <th>20</th>\n",
       "      <td>Opel</td>\n",
       "    </tr>\n",
       "    <tr>\n",
       "      <th>21</th>\n",
       "      <td>Peugeot</td>\n",
       "    </tr>\n",
       "    <tr>\n",
       "      <th>22</th>\n",
       "      <td>Porsche</td>\n",
       "    </tr>\n",
       "    <tr>\n",
       "      <th>23</th>\n",
       "      <td>Renault</td>\n",
       "    </tr>\n",
       "    <tr>\n",
       "      <th>24</th>\n",
       "      <td>Seat</td>\n",
       "    </tr>\n",
       "    <tr>\n",
       "      <th>25</th>\n",
       "      <td>Skoda</td>\n",
       "    </tr>\n",
       "    <tr>\n",
       "      <th>26</th>\n",
       "      <td>Suzuki</td>\n",
       "    </tr>\n",
       "    <tr>\n",
       "      <th>27</th>\n",
       "      <td>Tofaş</td>\n",
       "    </tr>\n",
       "    <tr>\n",
       "      <th>28</th>\n",
       "      <td>Toyota</td>\n",
       "    </tr>\n",
       "    <tr>\n",
       "      <th>29</th>\n",
       "      <td>Volkswagen</td>\n",
       "    </tr>\n",
       "    <tr>\n",
       "      <th>30</th>\n",
       "      <td>Volvo</td>\n",
       "    </tr>\n",
       "  </tbody>\n",
       "</table>\n",
       "</div>"
      ],
      "text/plain": [
       "              Marka\n",
       "0        Alfa Romeo\n",
       "1              Audi\n",
       "2               BMW\n",
       "3         Chevrolet\n",
       "4          Chrysler\n",
       "5           Citroen\n",
       "6    DS Automobiles\n",
       "7             Dacia\n",
       "8            Daewoo\n",
       "9          Daihatsu\n",
       "10             Fiat\n",
       "11             Ford\n",
       "12            Honda\n",
       "13          Hyundai\n",
       "14              Kia\n",
       "15             MINI\n",
       "16            Mazda\n",
       "17  Mercedes - Benz\n",
       "18       Mitsubishi\n",
       "19           Nissan\n",
       "20             Opel\n",
       "21          Peugeot\n",
       "22          Porsche\n",
       "23          Renault\n",
       "24             Seat\n",
       "25            Skoda\n",
       "26           Suzuki\n",
       "27            Tofaş\n",
       "28           Toyota\n",
       "29       Volkswagen\n",
       "30            Volvo"
      ]
     },
     "execution_count": 131,
     "metadata": {},
     "output_type": "execute_result"
    }
   ],
   "source": [
    "marka"
   ]
  },
  {
   "cell_type": "code",
   "execution_count": 132,
   "id": "dcd4dc8d",
   "metadata": {},
   "outputs": [],
   "source": [
    "def marka_index(marka):\n",
    "    index = int(markalar[markalar[\"Markalar\"]==marka].index.values)\n",
    "    return index"
   ]
  },
  {
   "cell_type": "code",
   "execution_count": 133,
   "id": "fd247fbc",
   "metadata": {},
   "outputs": [],
   "source": [
    "def kasa_tipi(kasa_tipi):\n",
    "    if kasa_tipi == \"Coupe\":\n",
    "        return 0\n",
    "    elif kasa_tipi == \"Hatchback\":\n",
    "        return 1\n",
    "    elif kasa_tipi == \"MPV\":\n",
    "        return 2\n",
    "    elif kasa_tipi == \"Sedan\":\n",
    "        return 3\n",
    "    else:\n",
    "        return 4"
   ]
  },
  {
   "cell_type": "code",
   "execution_count": 134,
   "id": "ad812923",
   "metadata": {},
   "outputs": [],
   "source": [
    "def vites_tipi(vites_tipi):\n",
    "    if vites_tipi == \"Düz\":\n",
    "        return 0\n",
    "    elif vites_tipi == \"Otomatik\":\n",
    "        return 1\n",
    "    else:\n",
    "        return 2"
   ]
  },
  {
   "cell_type": "code",
   "execution_count": 135,
   "id": "293b39eb",
   "metadata": {},
   "outputs": [],
   "source": [
    "def yakit_tipi(yakit_tipi):\n",
    "    if yakit_tipi == \"Benzin\":\n",
    "        return 0\n",
    "    elif yakit_tipi == \"Dizel\":\n",
    "        return 1\n",
    "    elif yakit_tipi == \"Hibrit\":\n",
    "        return 2\n",
    "    else:\n",
    "        return 3"
   ]
  },
  {
   "cell_type": "code",
   "execution_count": 136,
   "id": "151f8682",
   "metadata": {},
   "outputs": [],
   "source": [
    "def create_prediction_value(marka, boya_degisen, kasa_tipi, kilometre, motor_gucu, vites_tipi, yakit_tipi, yil):\n",
    "    res = pd.DataFrame(data = \n",
    "             {'Marka':[marka],'Boya_Degisen':[boya_degisen],'Kasa_Tipi':[kasa_tipi],\n",
    "              'Kilometre':[kilometre],'Motor_Gucu':[motor_gucu],'Vites_Tipi':[vites_tipi],\n",
    "              'Yakit_Tipi':[yakit_tipi],'Yil':[yil],})\n",
    "    return res"
   ]
  },
  {
   "cell_type": "code",
   "execution_count": 137,
   "id": "24b8f803",
   "metadata": {},
   "outputs": [],
   "source": [
    "def predict_models(res):\n",
    "    print(\"Decision Tree Result: \"+ str(int(dt_model.predict(res))).strip('[]')+\" TL\")\n",
    "    print(\"Multiple Linear Result: \"+ str(int(ml_model.predict(res))).strip('[]')+\" TL\")\n",
    "    print(\"Random Forest Result: \"+ str(int(rf_model.predict(res))).strip('[]')+\" TL\")\n",
    "    print(\"Gradient Boosting Result: \"+ str(int(gb_model.predict(res))).strip('[]')+\" TL\")"
   ]
  },
  {
   "cell_type": "code",
   "execution_count": 138,
   "id": "e9ded8c0",
   "metadata": {},
   "outputs": [
    {
     "name": "stdout",
     "output_type": "stream",
     "text": [
      "Decision Tree Result: 607000 TL\n",
      "Multiple Linear Result: 148693 TL\n",
      "Random Forest Result: 673863 TL\n",
      "Gradient Boosting Result: 685723 TL\n"
     ]
    },
    {
     "name": "stderr",
     "output_type": "stream",
     "text": [
      "C:\\Users\\Yusuf\\anaconda3\\Lib\\site-packages\\sklearn\\base.py:457: UserWarning: X has feature names, but DecisionTreeRegressor was fitted without feature names\n",
      "  warnings.warn(\n",
      "C:\\Users\\Yusuf\\anaconda3\\Lib\\site-packages\\sklearn\\base.py:457: UserWarning: X has feature names, but LinearRegression was fitted without feature names\n",
      "  warnings.warn(\n",
      "C:\\Users\\Yusuf\\anaconda3\\Lib\\site-packages\\sklearn\\base.py:457: UserWarning: X has feature names, but RandomForestRegressor was fitted without feature names\n",
      "  warnings.warn(\n",
      "C:\\Users\\Yusuf\\anaconda3\\Lib\\site-packages\\sklearn\\base.py:457: UserWarning: X has feature names, but GradientBoostingRegressor was fitted without feature names\n",
      "  warnings.warn(\n"
     ]
    }
   ],
   "source": [
    "#Renault, 9 Sorun, Sedan, 245 km, 90hp, Düz Vites, Dizel, 2015\n",
    "predict_value = create_prediction_value(marka_index(\"Renault\"),9,kasa_tipi(\"Sedan\"),245,90,vites_tipi(\"Düz\"),yakit_tipi(\"Dizel\"),2015)\n",
    "predict_models(predict_value)"
   ]
  },
  {
   "cell_type": "code",
   "execution_count": 139,
   "id": "d934054c",
   "metadata": {},
   "outputs": [
    {
     "name": "stdout",
     "output_type": "stream",
     "text": [
      "Decision Tree Result: 675000 TL\n",
      "Multiple Linear Result: -313053984 TL\n",
      "Random Forest Result: 635000 TL\n",
      "Gradient Boosting Result: 584266 TL\n"
     ]
    },
    {
     "name": "stderr",
     "output_type": "stream",
     "text": [
      "C:\\Users\\Yusuf\\anaconda3\\Lib\\site-packages\\sklearn\\base.py:457: UserWarning: X has feature names, but DecisionTreeRegressor was fitted without feature names\n",
      "  warnings.warn(\n",
      "C:\\Users\\Yusuf\\anaconda3\\Lib\\site-packages\\sklearn\\base.py:457: UserWarning: X has feature names, but LinearRegression was fitted without feature names\n",
      "  warnings.warn(\n",
      "C:\\Users\\Yusuf\\anaconda3\\Lib\\site-packages\\sklearn\\base.py:457: UserWarning: X has feature names, but RandomForestRegressor was fitted without feature names\n",
      "  warnings.warn(\n",
      "C:\\Users\\Yusuf\\anaconda3\\Lib\\site-packages\\sklearn\\base.py:457: UserWarning: X has feature names, but GradientBoostingRegressor was fitted without feature names\n",
      "  warnings.warn(\n"
     ]
    }
   ],
   "source": [
    "#Ford, 7 Sorun, Hatchback, 140000 km, 115hp, Otomatik Vites, Benzin, 2009\n",
    "predict_value = create_prediction_value(marka_index(\"Ford\"),7,kasa_tipi(\"Hatchback\"),140000,115,vites_tipi(\"Otomatik\"),yakit_tipi(\"Benzin\"),2009)\n",
    "predict_models(predict_value)"
   ]
  },
  {
   "cell_type": "code",
   "execution_count": null,
   "id": "15d73353",
   "metadata": {},
   "outputs": [],
   "source": []
  }
 ],
 "metadata": {
  "kernelspec": {
   "display_name": "Python 3 (ipykernel)",
   "language": "python",
   "name": "python3"
  },
  "language_info": {
   "codemirror_mode": {
    "name": "ipython",
    "version": 3
   },
   "file_extension": ".py",
   "mimetype": "text/x-python",
   "name": "python",
   "nbconvert_exporter": "python",
   "pygments_lexer": "ipython3",
   "version": "3.11.5"
  }
 },
 "nbformat": 4,
 "nbformat_minor": 5
}
