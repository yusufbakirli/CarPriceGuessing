{
 "cells": [
  {
   "cell_type": "code",
   "execution_count": 3,
   "id": "97a0647c",
   "metadata": {},
   "outputs": [],
   "source": [
    "import pandas as pd"
   ]
  },
  {
   "cell_type": "code",
   "execution_count": 4,
   "id": "437f862e",
   "metadata": {},
   "outputs": [],
   "source": [
    "araba = pd.read_excel(\"C:/Users/Yusuf/Desktop/proje/machine learning/cars_to_presentation.xlsx\")\n",
    "marka = araba[\"Marka\"]\n",
    "unique_marka = marka.unique()\n",
    "unique_marka = sorted(unique_marka)\n",
    "unique_marka = pd.DataFrame(unique_marka, columns=['Marka'])\n",
    "unique_marka.to_excel(\"C:/Users/Yusuf/Desktop/proje/machine learning/marka.xlsx\", index=False)"
   ]
  },
  {
   "cell_type": "code",
   "execution_count": null,
   "id": "21251372",
   "metadata": {},
   "outputs": [],
   "source": []
  }
 ],
 "metadata": {
  "kernelspec": {
   "display_name": "Python 3 (ipykernel)",
   "language": "python",
   "name": "python3"
  },
  "language_info": {
   "codemirror_mode": {
    "name": "ipython",
    "version": 3
   },
   "file_extension": ".py",
   "mimetype": "text/x-python",
   "name": "python",
   "nbconvert_exporter": "python",
   "pygments_lexer": "ipython3",
   "version": "3.11.5"
  }
 },
 "nbformat": 4,
 "nbformat_minor": 5
}
